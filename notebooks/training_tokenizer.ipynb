{
 "cells": [
  {
   "cell_type": "code",
   "execution_count": null,
   "id": "94156179-9ee3-42d0-9532-9b2407289a23",
   "metadata": {},
   "outputs": [],
   "source": [
    "%load_ext jupyter_black"
   ]
  },
  {
   "cell_type": "code",
   "execution_count": null,
   "id": "28e0d2ac-4253-4215-b1fc-d7c0a0fa7948",
   "metadata": {},
   "outputs": [],
   "source": [
    "import polars as pl\n",
    "from transformers import AutoTokenizer"
   ]
  },
  {
   "cell_type": "code",
   "execution_count": null,
   "id": "683071c6-1a4c-46e4-80b2-a299be72788e",
   "metadata": {},
   "outputs": [],
   "source": [
    "old_tokenizer = AutoTokenizer.from_pretrained(\"gpt2\")"
   ]
  },
  {
   "cell_type": "code",
   "execution_count": null,
   "id": "800647ba-701e-47c0-b6e1-3ec56bd06768",
   "metadata": {},
   "outputs": [],
   "source": [
    "df = pl.read_csv(\"../data/train_essays.csv\")\n",
    "df.head()"
   ]
  },
  {
   "cell_type": "code",
   "execution_count": null,
   "id": "472388b1-a7a1-40b3-a584-3fc68dc93256",
   "metadata": {},
   "outputs": [],
   "source": [
    "texts = df.select(\"text\").to_numpy().flatten().tolist()\n",
    "texts[0]"
   ]
  },
  {
   "cell_type": "code",
   "execution_count": null,
   "id": "1cdd6a5c-db87-4612-b15d-8041ce337ec4",
   "metadata": {},
   "outputs": [],
   "source": [
    "tokens = old_tokenizer.tokenize(texts[0])"
   ]
  },
  {
   "cell_type": "code",
   "execution_count": null,
   "id": "c0ee5d8b-34cc-455f-a06c-302349a941b2",
   "metadata": {
    "jupyter": {
     "outputs_hidden": true
    }
   },
   "outputs": [],
   "source": [
    "tokens"
   ]
  },
  {
   "cell_type": "code",
   "execution_count": null,
   "id": "5395309f-5ed2-4ef6-ab9f-399c4c8d904b",
   "metadata": {},
   "outputs": [],
   "source": [
    "new_tokenizer = old_tokenizer.train_new_from_iterator(texts, 52000)"
   ]
  },
  {
   "cell_type": "code",
   "execution_count": null,
   "id": "803aef62-709b-4edd-a17e-1ccf39bcb1f1",
   "metadata": {},
   "outputs": [],
   "source": [
    "new_tokens = new_tokenizer.tokenize(texts[:2)\n",
    "new_tokens"
   ]
  },
  {
   "cell_type": "code",
   "execution_count": null,
   "id": "a8b76730-7bf9-437d-a960-19fbcba56215",
   "metadata": {},
   "outputs": [],
   "source": []
  }
 ],
 "metadata": {
  "kernelspec": {
   "display_name": "Python 3 (ipykernel)",
   "language": "python",
   "name": "python3"
  },
  "language_info": {
   "codemirror_mode": {
    "name": "ipython",
    "version": 3
   },
   "file_extension": ".py",
   "mimetype": "text/x-python",
   "name": "python",
   "nbconvert_exporter": "python",
   "pygments_lexer": "ipython3",
   "version": "3.11.0"
  }
 },
 "nbformat": 4,
 "nbformat_minor": 5
}
