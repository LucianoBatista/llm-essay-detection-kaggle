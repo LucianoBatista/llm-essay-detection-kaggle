{
 "cells": [
  {
   "cell_type": "code",
   "execution_count": 2,
   "id": "d551918a-204c-40e4-bb4a-9635f980f45a",
   "metadata": {},
   "outputs": [
    {
     "data": {
      "text/html": [
       "\n",
       "                <script type=\"application/javascript\" id=\"jupyter_black\">\n",
       "                (function() {\n",
       "                    if (window.IPython === undefined) {\n",
       "                        return\n",
       "                    }\n",
       "                    var msg = \"WARNING: it looks like you might have loaded \" +\n",
       "                        \"jupyter_black in a non-lab notebook with \" +\n",
       "                        \"`is_lab=True`. Please double check, and if \" +\n",
       "                        \"loading with `%load_ext` please review the README!\"\n",
       "                    console.log(msg)\n",
       "                    alert(msg)\n",
       "                })()\n",
       "                </script>\n",
       "                "
      ],
      "text/plain": [
       "<IPython.core.display.HTML object>"
      ]
     },
     "metadata": {},
     "output_type": "display_data"
    }
   ],
   "source": [
    "%load_ext jupyter_black"
   ]
  },
  {
   "cell_type": "code",
   "execution_count": 3,
   "id": "8fa98451-8b1a-481b-b493-bc2579a123ca",
   "metadata": {},
   "outputs": [],
   "source": [
    "import polars as pl"
   ]
  },
  {
   "cell_type": "code",
   "execution_count": 10,
   "id": "894c81ca-53f0-4d6a-961e-0785e02121c4",
   "metadata": {},
   "outputs": [],
   "source": [
    "data = \"../data/curated/external/concatenated.csv\"\n",
    "df = (\n",
    "    pl.read_csv(data, infer_schema_length=40000)\n",
    "    .with_row_count(name=\"id_\")\n",
    "    .drop(\"id\")\n",
    "    .rename({\"id_\": \"id\"})\n",
    ")"
   ]
  },
  {
   "cell_type": "markdown",
   "id": "5c526eaa-8702-4948-ac8c-27352703129b",
   "metadata": {},
   "source": [
    "One important thing here is to look for AI generated essays using the same prompt as we have on the training data."
   ]
  },
  {
   "cell_type": "code",
   "execution_count": 22,
   "id": "ae675e1c-6fab-426c-b02f-66b6a0759d3b",
   "metadata": {},
   "outputs": [
    {
     "data": {
      "text/html": [
       "<div><style>\n",
       ".dataframe > thead > tr,\n",
       ".dataframe > tbody > tr {\n",
       "  text-align: right;\n",
       "  white-space: pre-wrap;\n",
       "}\n",
       "</style>\n",
       "<small>shape: (823, 6)</small><table border=\"1\" class=\"dataframe\"><thead><tr><th>id</th><th>prompt_id</th><th>text</th><th>generated</th><th>model</th><th>kaggle_repo</th></tr><tr><td>u32</td><td>str</td><td>str</td><td>i64</td><td>str</td><td>i64</td></tr></thead><tbody><tr><td>202</td><td>&quot;0&quot;</td><td>&quot;Limiting car u…</td><td>1</td><td>&quot;gpt-3.5-turbo&quot;</td><td>1</td></tr><tr><td>471</td><td>&quot;1&quot;</td><td>&quot;[Your Name]\n",
       "[Y…</td><td>1</td><td>&quot;gpt-3.5-turbo&quot;</td><td>1</td></tr><tr><td>358</td><td>&quot;1&quot;</td><td>&quot;[Your Name]\n",
       "[Y…</td><td>1</td><td>&quot;gpt-3.5-turbo&quot;</td><td>1</td></tr><tr><td>489</td><td>&quot;1&quot;</td><td>&quot;[Your Name]\n",
       "[Y…</td><td>1</td><td>&quot;gpt-3.5-turbo&quot;</td><td>1</td></tr><tr><td>280</td><td>&quot;1&quot;</td><td>&quot;[Your Name]\n",
       "[Y…</td><td>1</td><td>&quot;gpt-3.5-turbo&quot;</td><td>1</td></tr><tr><td>145</td><td>&quot;0&quot;</td><td>&quot;The advantages…</td><td>1</td><td>&quot;gpt-3.5-turbo&quot;</td><td>1</td></tr><tr><td>166</td><td>&quot;0&quot;</td><td>&quot;The Advantages…</td><td>1</td><td>&quot;gpt-3.5-turbo&quot;</td><td>1</td></tr><tr><td>692</td><td>&quot;1&quot;</td><td>&quot;Dear Senator,\n",
       "…</td><td>1</td><td>&quot;gpt-4&quot;</td><td>1</td></tr><tr><td>109</td><td>&quot;0&quot;</td><td>&quot;Limiting car u…</td><td>1</td><td>&quot;gpt-3.5-turbo&quot;</td><td>1</td></tr><tr><td>19785</td><td>&quot;0&quot;</td><td>&quot;The Advantages…</td><td>1</td><td>&quot;claude&quot;</td><td>6</td></tr><tr><td>317</td><td>&quot;1&quot;</td><td>&quot;[Your Name]\n",
       "[Y…</td><td>1</td><td>&quot;gpt-3.5-turbo&quot;</td><td>1</td></tr><tr><td>579</td><td>&quot;0&quot;</td><td>&quot;Title: The Adv…</td><td>1</td><td>&quot;gpt-4&quot;</td><td>1</td></tr><tr><td>&hellip;</td><td>&hellip;</td><td>&hellip;</td><td>&hellip;</td><td>&hellip;</td><td>&hellip;</td></tr><tr><td>410</td><td>&quot;1&quot;</td><td>&quot;[Your Name]\n",
       "[Y…</td><td>1</td><td>&quot;gpt-3.5-turbo&quot;</td><td>1</td></tr><tr><td>19871</td><td>&quot;0&quot;</td><td>&quot;The Benefits o…</td><td>1</td><td>&quot;claude&quot;</td><td>6</td></tr><tr><td>91</td><td>&quot;0&quot;</td><td>&quot;There are nume…</td><td>1</td><td>&quot;gpt-3.5-turbo&quot;</td><td>1</td></tr><tr><td>345</td><td>&quot;1&quot;</td><td>&quot;[Your Name]\n",
       "[Y…</td><td>1</td><td>&quot;gpt-3.5-turbo&quot;</td><td>1</td></tr><tr><td>271</td><td>&quot;1&quot;</td><td>&quot;[Your Name]\n",
       "[Y…</td><td>1</td><td>&quot;gpt-3.5-turbo&quot;</td><td>1</td></tr><tr><td>553</td><td>&quot;0&quot;</td><td>&quot;Title: The Win…</td><td>1</td><td>&quot;gpt-4&quot;</td><td>1</td></tr><tr><td>359</td><td>&quot;1&quot;</td><td>&quot;[Your Name]\n",
       "[Y…</td><td>1</td><td>&quot;gpt-3.5-turbo&quot;</td><td>1</td></tr><tr><td>143</td><td>&quot;0&quot;</td><td>&quot;Limiting car u…</td><td>1</td><td>&quot;gpt-3.5-turbo&quot;</td><td>1</td></tr><tr><td>29</td><td>&quot;0&quot;</td><td>&quot;In recent year…</td><td>1</td><td>&quot;gpt-3.5-turbo&quot;</td><td>1</td></tr><tr><td>60</td><td>&quot;0&quot;</td><td>&quot;Advantages of …</td><td>1</td><td>&quot;gpt-3.5-turbo&quot;</td><td>1</td></tr><tr><td>270</td><td>&quot;1&quot;</td><td>&quot;[Your Name]\n",
       "[Y…</td><td>1</td><td>&quot;gpt-3.5-turbo&quot;</td><td>1</td></tr><tr><td>673</td><td>&quot;1&quot;</td><td>&quot;Dear Senator,\n",
       "…</td><td>1</td><td>&quot;gpt-4&quot;</td><td>1</td></tr></tbody></table></div>"
      ],
      "text/plain": [
       "shape: (823, 6)\n",
       "┌─────┬───────────┬───────────────────────────────────┬───────────┬───────────────┬─────────────┐\n",
       "│ id  ┆ prompt_id ┆ text                              ┆ generated ┆ model         ┆ kaggle_repo │\n",
       "│ --- ┆ ---       ┆ ---                               ┆ ---       ┆ ---           ┆ ---         │\n",
       "│ u32 ┆ str       ┆ str                               ┆ i64       ┆ str           ┆ i64         │\n",
       "╞═════╪═══════════╪═══════════════════════════════════╪═══════════╪═══════════════╪═════════════╡\n",
       "│ 202 ┆ 0         ┆ Limiting car usage can have seve… ┆ 1         ┆ gpt-3.5-turbo ┆ 1           │\n",
       "│ 471 ┆ 1         ┆ [Your Name]                       ┆ 1         ┆ gpt-3.5-turbo ┆ 1           │\n",
       "│     ┆           ┆ [Your Address]                    ┆           ┆               ┆             │\n",
       "│     ┆           ┆ [City…                            ┆           ┆               ┆             │\n",
       "│ 358 ┆ 1         ┆ [Your Name]                       ┆ 1         ┆ gpt-3.5-turbo ┆ 1           │\n",
       "│     ┆           ┆ [Your Address]                    ┆           ┆               ┆             │\n",
       "│     ┆           ┆ [City…                            ┆           ┆               ┆             │\n",
       "│ 489 ┆ 1         ┆ [Your Name]                       ┆ 1         ┆ gpt-3.5-turbo ┆ 1           │\n",
       "│     ┆           ┆ [Your Address]                    ┆           ┆               ┆             │\n",
       "│     ┆           ┆ [City…                            ┆           ┆               ┆             │\n",
       "│ …   ┆ …         ┆ …                                 ┆ …         ┆ …             ┆ …           │\n",
       "│ 29  ┆ 0         ┆ In recent years, there has been … ┆ 1         ┆ gpt-3.5-turbo ┆ 1           │\n",
       "│ 60  ┆ 0         ┆ Advantages of Limiting Car Usage… ┆ 1         ┆ gpt-3.5-turbo ┆ 1           │\n",
       "│ 270 ┆ 1         ┆ [Your Name]                       ┆ 1         ┆ gpt-3.5-turbo ┆ 1           │\n",
       "│     ┆           ┆ [Your Address]                    ┆           ┆               ┆             │\n",
       "│     ┆           ┆ [City…                            ┆           ┆               ┆             │\n",
       "│ 673 ┆ 1         ┆ Dear Senator,                     ┆ 1         ┆ gpt-4         ┆ 1           │\n",
       "│     ┆           ┆                                   ┆           ┆               ┆             │\n",
       "│     ┆           ┆ I am writing to e…                ┆           ┆               ┆             │\n",
       "└─────┴───────────┴───────────────────────────────────┴───────────┴───────────────┴─────────────┘"
      ]
     },
     "execution_count": 22,
     "metadata": {},
     "output_type": "execute_result"
    }
   ],
   "source": [
    "df.filter(pl.col(\"generated\") == 1).unique(\"text\").filter(\n",
    "    (pl.col(\"prompt_id\") == \"1\") | (pl.col(\"prompt_id\") == \"0\")\n",
    ")"
   ]
  },
  {
   "cell_type": "markdown",
   "id": "8836f551-3f76-4c66-b7d1-b63a4b6b9b31",
   "metadata": {},
   "source": [
    "Look at by removing duplicated essays (as we're collecting from different repositories so duplicates can happen), and also selecting just the essays we know about the `prompt_id` was used, we end up with not too much data. But I believe that this is lot more significant to the model, and also an simple strategy to start the competition."
   ]
  },
  {
   "cell_type": "markdown",
   "id": "0f052f13-da97-43eb-a6ce-0a5f224d06f8",
   "metadata": {},
   "source": [
    "You can see that there is a lot of others prompts, mostly from ArguGPT repository, but others also has `prompt_ids` from the PERSUADE Corpus generated by AI."
   ]
  },
  {
   "cell_type": "code",
   "execution_count": 21,
   "id": "6f7cbb7a-aa86-44f9-a505-e339fd57e6ca",
   "metadata": {},
   "outputs": [
    {
     "data": {
      "text/plain": [
       "array(['GRE-108', 'GRE-624', 'GRE-604', 'GRE-451', 'GRE-375', 'GRE-115',\n",
       "       'GRE-647', 'GRE-567', 'GRE-644', 'GRE-444', 'GRE-196', 'GRE-595',\n",
       "       'WECCL-07', 'GRE-002', 'GRE-344', 'GRE-312', 'GRE-158', 'GRE-133',\n",
       "       'GRE-503', 'GRE-073', 'GRE-094', 'GRE-606', 'GRE-033', 'GRE-151',\n",
       "       'GRE-167', 'GRE-356', 'GRE-315', 'GRE-511', 'GRE-561', 'GRE-634',\n",
       "       'GRE-678', 'GRE-065', '7', 'GRE-188', 'GRE-367', 'GRE-043',\n",
       "       'GRE-655', 'GRE-394', 'GRE-633', 'GRE-114', 'GRE-317', 'GRE-225',\n",
       "       'WECCL-11', 'GRE-053', 'GRE-457', 'GRE-125', '13', 'GRE-436',\n",
       "       'WECCL-01', 'GRE-284', 'GRE-654', 'TOEFL11-01', 'GRE-571',\n",
       "       'GRE-090', 'GRE-281', 'GRE-617', 'GRE-054', 'GRE-526', 'GRE-555',\n",
       "       'GRE-111', 'GRE-014', 'GRE-052', 'WECCL-17', 'GRE-092', 'GRE-509',\n",
       "       'GRE-560', 'GRE-071', 'GRE-185', 'GRE-244', 'GRE-085', 'GRE-422',\n",
       "       'GRE-648', 'GRE-392', 'GRE-128', 'GRE-193', 'WECCL-21', 'GRE-058',\n",
       "       'GRE-600', 'GRE-487', 'GRE-455', 'GRE-335', 'GRE-112', 'GRE-517',\n",
       "       'GRE-398', 'GRE-638', 'GRE-239', 'GRE-439', 'GRE-670', 'GRE-109',\n",
       "       'GRE-580', 'GRE-211', 'GRE-318', 'GRE-502', 'GRE-646', '11',\n",
       "       'GRE-148', 'GRE-608', 'GRE-256', 'GRE-609', 'GRE-480', 'GRE-291',\n",
       "       'GRE-536', 'WECCL-18', 'GRE-435', 'TOEFL11-05', 'GRE-322',\n",
       "       'GRE-626', 'GRE-479', 'GRE-359', 'GRE-159', 'GRE-338', 'GRE-437',\n",
       "       'GRE-134', '3', '17', 'GRE-364', 'GRE-186', 'GRE-372', 'GRE-007',\n",
       "       'GRE-513', 'GRE-537', 'GRE-530', 'WECCL-09', 'GRE-508', 'GRE-025',\n",
       "       'GRE-088', 'GRE-673', 'GRE-494', 'GRE-011', 'GRE-283', 'GRE-507',\n",
       "       'WECCL-16', 'GRE-347', 'GRE-121', 'GRE-285', 'GRE-382',\n",
       "       'TOEFL11-07', 'GRE-607', 'GRE-100', 'GRE-129', 'GRE-471',\n",
       "       'GRE-465', 'GRE-548', 'GRE-556', 'GRE-651', 'GRE-649', 'GRE-350',\n",
       "       'GRE-086', 'GRE-486', 'GRE-615', 'GRE-127', 'GRE-373', 'GRE-598',\n",
       "       'GRE-420', 'GRE-529', 'GRE-247', 'GRE-336', 'GRE-627', 'GRE-500',\n",
       "       'GRE-675', 'GRE-026', 'GRE-495', 'GRE-505', 'GRE-268', 'GRE-153',\n",
       "       'GRE-674', 'GRE-045', 'GRE-520', 'GRE-645', 'GRE-168', 'GRE-079',\n",
       "       'GRE-216', 'GRE-544', 'GRE-519', 'TOEFL11-03', 'GRE-231',\n",
       "       'GRE-044', 'GRE-198', 'GRE-636', 'GRE-304', 'GRE-464', 'GRE-430',\n",
       "       'GRE-599', 'GRE-263', 'GRE-523', 'GRE-619', 'GRE-056', 'GRE-331',\n",
       "       'GRE-132', 'GRE-017', 'GRE-345', 'GRE-667', 'GRE-013', 'GRE-421',\n",
       "       'GRE-485', 'GRE-009', 'GRE-019', 'GRE-154', 'GRE-490', 'GRE-504',\n",
       "       'GRE-501', 'GRE-424', 'GRE-547', 'GRE-022', 'GRE-525', 'GRE-051',\n",
       "       'GRE-628', 'GRE-499', 'WECCL-08', 'GRE-233', 'GRE-171', 'GRE-136',\n",
       "       'GRE-458', 'GRE-235', 'GRE-164', 'GRE-478', 'GRE-476', 'GRE-664',\n",
       "       'GRE-264', '-1', 'GRE-625', 'GRE-238', 'GRE-227', 'GRE-589',\n",
       "       'GRE-613', 'GRE-429', 'GRE-581', 'GRE-639', 'GRE-130', 'GRE-339',\n",
       "       'GRE-475', 'GRE-605', 'GRE-461', 'GRE-149', 'GRE-661', 'GRE-354',\n",
       "       'GRE-481', 'GRE-212', 'GRE-553', 'GRE-549', 'GRE-448', 'GRE-202',\n",
       "       'GRE-072', 'GRE-091', 'GRE-049', 'GRE-445', 'GRE-658', 'GRE-309',\n",
       "       'GRE-346', 'GRE-006', 'GRE-565', 'GRE-330', 'GRE-579', 'GRE-310',\n",
       "       'GRE-657', 'GRE-028', 'TOEFL11-08', 'GRE-308', 'GRE-474',\n",
       "       'GRE-543', 'GRE-473', 'GRE-117', 'GRE-266', 'GRE-385', 'GRE-229',\n",
       "       'GRE-095', 'GRE-574', 'GRE-040', 'GRE-327', 'GRE-462', 'GRE-540',\n",
       "       'GRE-076', 'GRE-184', 'GRE-105', '9', 'GRE-577', 'GRE-062',\n",
       "       'GRE-200', 'GRE-546', 'GRE-172', 'GRE-324', 'GRE-470', 'GRE-288',\n",
       "       'GRE-150', 'WECCL-25', '1', 'GRE-110', 'GRE-593', 'GRE-583',\n",
       "       'GRE-587', 'GRE-432', 'GRE-029', 'GRE-034', 'TOEFL11-04',\n",
       "       'GRE-183', 'GRE-472', '12', 'GRE-328', 'GRE-446', 'GRE-357',\n",
       "       'GRE-004', 'GRE-269', 'GRE-663', 'GRE-083', 'GRE-669', 'GRE-353',\n",
       "       'GRE-570', 'GRE-680', 'GRE-467', 'GRE-559', 'GRE-016', 'GRE-506',\n",
       "       'GRE-170', 'GRE-611', 'GRE-538', 'GRE-482', 'GRE-152', 'GRE-635',\n",
       "       'GRE-311', 'GRE-573', 'GRE-578', 'WECCL-26', 'GRE-376', 'GRE-041',\n",
       "       'GRE-252', '5', 'GRE-261', 'GRE-616', 'GRE-119', 'GRE-622',\n",
       "       'GRE-018', 'GRE-527', 'GRE-368', 'GRE-483', 'GRE-453', 'GRE-630',\n",
       "       'GRE-681', 'GRE-659', 'GRE-321', 'GRE-671', 'GRE-037', 'GRE-395',\n",
       "       'GRE-431', 'GRE-031', 'GRE-643', 'GRE-319', 'GRE-069', 'GRE-174',\n",
       "       'GRE-582', 'GRE-098', 'GRE-179', 'GRE-089', 'GRE-302', 'GRE-512',\n",
       "       'GRE-459', 'GRE-032', 'GRE-251', 'GRE-272', 'GRE-104', '8', '0.0',\n",
       "       'GRE-147', 'GRE-118', 'GRE-591', 'GRE-592', 'GRE-156', 'GRE-423',\n",
       "       'GRE-653', 'GRE-541', 'GRE-427', 'GRE-596', 'GRE-084', 'GRE-021',\n",
       "       'GRE-419', 'GRE-301', 'GRE-287', 'GRE-355', 'GRE-668', 'GRE-326',\n",
       "       'GRE-057', 'GRE-001', 'GRE-061', 'GRE-563', 'GRE-438', 'GRE-632',\n",
       "       'GRE-362', 'GRE-155', 'GRE-665', 'GRE-178', 'GRE-289', 'GRE-113',\n",
       "       'GRE-454', 'GRE-498', 'GRE-631', 'GRE-383', 'GRE-601', 'GRE-280',\n",
       "       'GRE-588', 'GRE-042', 'GRE-242', 'GRE-679', 'GRE-165', 'GRE-030',\n",
       "       'GRE-535', 'GRE-642', 'GRE-640', 'GRE-203', 'GRE-038', 'GRE-080',\n",
       "       'GRE-008', 'GRE-552', 'GRE-534', 'GRE-351', 'GRE-223', 'GRE-075',\n",
       "       'GRE-433', 'GRE-077', 'GRE-320', 'GRE-489', 'GRE-441', 'WECCL-03',\n",
       "       'GRE-265', 'GRE-300', 'GRE-425', 'GRE-181', 'WECCL-23', 'GRE-618',\n",
       "       'GRE-426', 'GRE-442', 'GRE-099', 'GRE-255', 'GRE-187', 'GRE-594',\n",
       "       'GRE-224', 'GRE-258', 'GRE-542', '10', 'GRE-558', 'GRE-176',\n",
       "       'GRE-584', 'GRE-082', 'GRE-452', 'GRE-162', 'GRE-213', 'GRE-557',\n",
       "       'GRE-660', 'GRE-666', 'GRE-469', 'GRE-035', 'GRE-545', 'GRE-484',\n",
       "       'GRE-282', 'GRE-039', 'GRE-460', 'GRE-463', 'GRE-232', 'GRE-539',\n",
       "       'GRE-276', 'GRE-226', 'GRE-194', 'GRE-199', 'WECCL-15', 'GRE-055',\n",
       "       'GRE-516', 'GRE-562', 'GRE-390', 'GRE-496', 'GRE-306', 'GRE-064',\n",
       "       'GRE-012', 'GRE-048', 'GRE-295', 'GRE-576', 'GRE-050', 'GRE-097',\n",
       "       'GRE-521', 'GRE-067', 'GRE-020', 'GRE-093', 'GRE-677', 'GRE-531',\n",
       "       'GRE-290', 'GRE-522', 'GRE-245', 'GRE-515', 'GRE-036', 'GRE-447',\n",
       "       'GRE-102', 'GRE-278', 'GRE-241', 'GRE-087', 'GRE-603', 'GRE-676',\n",
       "       'GRE-294', 'GRE-551', 'TOEFL11-06', 'GRE-492', 'GRE-161',\n",
       "       'GRE-219', 'GRE-046', 'GRE-389', '0', 'GRE-228', 'GRE-623',\n",
       "       'GRE-078', 'GRE-060', 'GRE-365', 'GRE-047', 'GRE-257', 'GRE-585',\n",
       "       'GRE-550', 'GRE-672', 'GRE-126', 'GRE-197', 'WECCL-13', 'GRE-440',\n",
       "       'GRE-218', 'GRE-066', 'GRE-103', 'GRE-450', 'GRE-325', 'GRE-292',\n",
       "       '16', 'GRE-332', 'GRE-189', 'GRE-493', 'GRE-120', 'GRE-528',\n",
       "       'GRE-586', 'GRE-612', 'GRE-572', '6', 'GRE-024', 'WECCL-04',\n",
       "       'TOEFL11-02', 'GRE-566', 'GRE-575', 'GRE-510', 'GRE-027',\n",
       "       'GRE-068', 'GRE-379', 'GRE-524', 'GRE-620', 'GRE-259', 'GRE-299',\n",
       "       'GRE-466', 'GRE-637', 'GRE-195', 'GRE-614', 'GRE-204', 'GRE-160',\n",
       "       'GRE-602', 'WECCL-02', 'GRE-074', 'GRE-590', 'GRE-569', 'GRE-240',\n",
       "       'GRE-107', 'GRE-116', 'GRE-477', 'GRE-297', '15', 'GRE-340',\n",
       "       'GRE-271', 'GRE-377', 'GRE-314', 'GRE-662', 'GRE-135', 'GRE-274',\n",
       "       'GRE-342', 'GRE-205', 'GRE-650', 'GRE-468', 'GRE-656', 'GRE-393',\n",
       "       'GRE-296', 'GRE-182', 'GRE-652', '1.0', 'GRE-096', 'GRE-360',\n",
       "       'GRE-629', 'GRE-443', 'GRE-190', 'GRE-163', 'GRE-434', 'GRE-348',\n",
       "       'GRE-369', 'GRE-003', 'GRE-488', 'GRE-177', 'GRE-070', 'GRE-010',\n",
       "       'WECCL-14', 'WECCL-05', 'GRE-254', 'GRE-124', 'WECCL-12',\n",
       "       'GRE-063', 'GRE-236', 'GRE-387', 'GRE-214', 'GRE-456', 'GRE-137',\n",
       "       'GRE-248', 'GRE-532', 'WECCL-10', 'GRE-381', 'GRE-497', 'GRE-518',\n",
       "       'GRE-023', 'GRE-554', 'GRE-621', 'GRE-101', 'GRE-449', 'GRE-428',\n",
       "       'GRE-568', 'GRE-370', 'GRE-059', 'GRE-192', 'GRE-533', 'GRE-514',\n",
       "       'WECCL-22', 'WECCL-20', 'GRE-610', 'GRE-122', 'GRE-222',\n",
       "       'WECCL-06', 'GRE-386', 'GRE-243', 'GRE-123', 'GRE-015', 'WECCL-24',\n",
       "       'GRE-207', 'GRE-396', 'GRE-597', 'GRE-005', 'GRE-081', 'GRE-641',\n",
       "       'GRE-131', 'GRE-106'], dtype=object)"
      ]
     },
     "execution_count": 21,
     "metadata": {},
     "output_type": "execute_result"
    }
   ],
   "source": [
    "df.filter(pl.col(\"generated\") == 1).unique(\"text\").select(\"prompt_id\").unique(\n",
    "    \"prompt_id\"\n",
    ").to_numpy().flatten()"
   ]
  },
  {
   "cell_type": "code",
   "execution_count": null,
   "id": "7a780511-3427-4cb3-9767-cfb75f8858aa",
   "metadata": {},
   "outputs": [],
   "source": []
  }
 ],
 "metadata": {
  "kernelspec": {
   "display_name": "Python 3 (ipykernel)",
   "language": "python",
   "name": "python3"
  },
  "language_info": {
   "codemirror_mode": {
    "name": "ipython",
    "version": 3
   },
   "file_extension": ".py",
   "mimetype": "text/x-python",
   "name": "python",
   "nbconvert_exporter": "python",
   "pygments_lexer": "ipython3",
   "version": "3.11.0"
  }
 },
 "nbformat": 4,
 "nbformat_minor": 5
}
